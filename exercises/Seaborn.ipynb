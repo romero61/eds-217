{
 "cells": [
  {
   "cell_type": "markdown",
   "metadata": {},
   "source": [
    "| [⬅️ Previous Exercise](Exercise2-2_Pandas.ipynb) | [🏠 Index](Index.ipynb) | [➡️ Next Exercise](Exercise3_SciPy.ipynb) |\n",
    "\n",
    "# Seaborn 📈\n",
    "\n",
    "\n",
    "![seaborn](./assets/seaborn.png)\n",
    "\n",
    "This notebook provides a brief introduction to the [<span class=\"codeb\">Seaborn</span>](https://seaborn.pydata.org) visualization library. \n",
    "\n",
    "<span class=\"code\">Seaborn</span> helps you explore and understand your data. Its plotting functions operate on dataframes and arrays containing whole datasets and internally perform the necessary semantic mapping and statistical aggregation to produce informative plots. Its dataset-oriented, declarative API lets you focus on what the different elements of your plots mean, rather than on the details of how to draw them.\n",
    "\n",
    "Here's an example of seaborne's capabilities."
   ]
  },
  {
   "cell_type": "code",
   "execution_count": null,
   "metadata": {},
   "outputs": [],
   "source": [
    "# Import seaborn\n",
    "import seaborn as sns\n",
    "\n",
    "# Apply the default theme\n",
    "sns.set_theme()\n",
    "\n",
    "# Load an example dataset\n",
    "tips = sns.load_dataset(\"tips\")\n",
    "\n",
    "# Create a visualization\n",
    "sns.relplot(\n",
    "    data=tips,\n",
    "    x=\"total_bill\", y=\"tip\", col=\"time\",\n",
    "    hue=\"smoker\", style=\"smoker\", size=\"size\",\n",
    ")\n"
   ]
  },
  {
   "cell_type": "markdown",
   "metadata": {},
   "source": [
    "Behind the scenes, seaborn uses matplotlib to draw its plots. The plot above shows the relationship between five variables in the built-in `tips` dataset using a single call to the seaborn function `relplot()`. \n",
    "\n",
    "**Notice that you only need to provide the _names_ of the variables and their _roles_ in the plot.** \n",
    "\n",
    "This interface is different from `matplotlib`, in that you do not need to specify attributes of the plot elements in terms of the color values or marker codes. \n",
    "\n",
    "Behind the scenes, seaborn handled the translation from values in the dataframe to arguments that matplotlib understands. This **declarative approach** lets you stay focused on the questions that you want to answer, rather than on the details of how to control matplotlib.\n"
   ]
  },
  {
   "cell_type": "markdown",
   "metadata": {},
   "source": [
    "### Seaborn `relplot()`\n",
    "\n",
    "The function `relplot()` is named that way because it is designed to visualize many different statistical relationships. While scatter plots are often effective, relationships where one variable represents a measure of time are better represented by a line. The relplot() function has a convenient `kind` parameter that lets you easily switch to this alternate representation:"
   ]
  },
  {
   "cell_type": "code",
   "execution_count": null,
   "metadata": {},
   "outputs": [],
   "source": [
    "dots = sns.load_dataset(\"dots\")\n",
    "sns.relplot(\n",
    "    data=dots, kind=\"line\",\n",
    "    x=\"time\", y=\"firing_rate\", col=\"align\",\n",
    "    hue=\"choice\", size=\"coherence\", style=\"choice\",\n",
    "    facet_kws=dict(sharex=False),\n",
    ")"
   ]
  },
  {
   "cell_type": "markdown",
   "metadata": {},
   "source": [
    "\n",
    "If you compare the two calls to `relplot()` in the two examples so far, you will see that the `size` and `style` parameters are used in both the scatter plots (first example) and line plots (second example). However, they affect the two visualizations differently.\n",
    "\n",
    "In a scatter plot, the `size` and `style` arguments affect _marker area_ and _symbol_ representation.\n",
    "\n",
    "In a line plot, the `size` and `style` arguments alter the _line width_ and _dashing_. \n",
    "\n",
    "Allowing the same arguments (syntax) to change meaning (semantics) across different contexts is more characteristic of natural languages than formal ones. In this case, `seaborn` is attempting to allow you to write in a [\"grammar of graphics\"](http://vita.had.co.nz/papers/layered-grammar.html), which is the same concept underlying ggplot created by Hadley Wickham. \n",
    "\n",
    "The benefit of adopting this less formal specification is that you do not need to worry about as many syntax details and instead can focus more on the overall structure of the plot and the information you want it to convey."
   ]
  },
  {
   "cell_type": "markdown",
   "metadata": {},
   "source": [
    "### Comparing `matplotlib` to `seaborn`\n",
    "\n",
    "A focus of today's activities is translation, so let's look at translating some of the examples from yesterday's `matplotlib` exercise into seaborn.\n",
    "\n",
    "First, as always, let's import our important packages:\n",
    "<div class=\"run\">\n",
    "    ▶️ <b> Run the cell below. </b>\n",
    "</div>"
   ]
  },
  {
   "cell_type": "code",
   "execution_count": null,
   "metadata": {},
   "outputs": [],
   "source": [
    "# Imports\n",
    "import numpy as np\n",
    "import pandas as pd\n",
    "import matplotlib.pyplot as plt\n",
    "import seaborn as sns\n"
   ]
  },
  {
   "cell_type": "markdown",
   "metadata": {},
   "source": [
    "### Basic line plots (`sns.lineplot`)\n",
    "\n",
    "Yesterday we used a few functions, $y_{\\sin} = \\sin{(x)}$ and $y_{\\cos} = \\cos{(x)}$:\n",
    "\n",
    "```python\n",
    "# Generate a 1D array with 300 points between -5 and 5\n",
    "x = np.linspace(-5,5,300)\n",
    "# Generate sine wave\n",
    "ysin = np.sin(x)\n",
    "# Generate cosine wave\n",
    "ycos = np.cos(x)\n",
    "\n",
    "# Now let's make a dataframe from these arrays:\n",
    "df = pd.DataFrame({\n",
    "    'x': x,\n",
    "    'ysin': ysin,\n",
    "    'ycos': ycos\n",
    "    })\n",
    "\n",
    "\n",
    "We can plot these on the same figure without instancing `plt.figure()` as follows:\n",
    "\n",
    "```python\n",
    "# Plot sine wave\n",
    "plt.plot(x,ysin)\n",
    "# Plot cosine wave\n",
    "plot.plot(x,ycos)\n",
    "```\n",
    "\n",
    "Seaborn uses the `lineplot` command to plot line plots:\n",
    "```python\n",
    "sns.lineplot(data=df,x='x',y='ysin')\n",
    "sns.lineplot(data=df,x='x',y='ycos')\n",
    "```\n"
   ]
  },
  {
   "cell_type": "code",
   "execution_count": null,
   "metadata": {},
   "outputs": [],
   "source": [
    "# Generate a 1D array with 300 points between -5 and 5\n",
    "x = np.linspace(-5,5,300)\n",
    "# Generate sine wave\n",
    "ysin = np.sin(x)\n",
    "# Generate cosine wave\n",
    "ycos = np.cos(x)\n",
    "\n",
    "# Now let's make a dataframe from these arrays:\n",
    "df = pd.DataFrame({\n",
    "    'x': x,\n",
    "    'ysin': ysin,\n",
    "    'ycos': ycos\n",
    "    })\n",
    "\n",
    "sns.lineplot(data=df,x='x',y='ysin')\n",
    "sns.lineplot(data=df,x='x',y='ycos')"
   ]
  },
  {
   "cell_type": "markdown",
   "metadata": {},
   "source": [
    "\n",
    "<div class=\"practice\">\n",
    "    📚  <b> Practice 2. </b> \n",
    "    1. Load the <code>flights</code> dataset using the <code>sns.load_dataset(\"flights\")</code> command. \n",
    "    1. Explore the dataframe (it contains passenger data by month and year).\n",
    "    1. Use `sns.lineplot()` to plot the number of passengers throughout the data set.\n",
    "    1. Create a new dataset that contains data on a specific month (your choice) to see how monthly passengers have changed over time. \n",
    "    1. Create a plot that shows the average and range of passengers by year. (Hint: This is much easier than it sounds in seaborn!)\n",
    "</div>"
   ]
  },
  {
   "cell_type": "code",
   "execution_count": null,
   "metadata": {},
   "outputs": [],
   "source": []
  },
  {
   "cell_type": "code",
   "execution_count": null,
   "metadata": {},
   "outputs": [],
   "source": [
    "fmri = sns.load_dataset(\"fmri\")\n",
    "\n",
    "\n"
   ]
  },
  {
   "cell_type": "markdown",
   "metadata": {},
   "source": [
    "### Working with real data\n",
    "<hr style=\"border-top: 0.2px solid gray; margin-top: 12px; margin-bottom: 1px\"></hr>\n",
    "\n",
    "As we learned in the previous exercise, working with real-world data usually complicates things, and plotting is no exception. In particular, working with time series can get a bit messy. Let's take a look at our BSRN data as an example.\n",
    "\n",
    "<div class=\"run\">\n",
    "    ▶️ <b> Run the cell below. </b>\n",
    "</div>"
   ]
  },
  {
   "cell_type": "code",
   "execution_count": null,
   "metadata": {},
   "outputs": [],
   "source": [
    "# Import data\n",
    "bsrn = pd.read_csv('../data/BSRN_GOB_2019-10.csv',index_col=0,parse_dates=True)"
   ]
  },
  {
   "cell_type": "markdown",
   "metadata": {},
   "source": [
    "Now that we've imported our data, let's make a quick plot of incoming shortwave radiation over time.\n",
    "\n",
    "<div class=\"run\">\n",
    "    ▶️ <b> Translate the cell below into seaborn. </b>\n",
    "</div>"
   ]
  },
  {
   "cell_type": "code",
   "execution_count": null,
   "metadata": {},
   "outputs": [],
   "source": [
    "# # Initialize empty figure\n",
    "# fig = plt.figure()\n",
    "# # Plot incoming SW radiation\n",
    "# plt.plot(bsrn.index,bsrn.SWD_Wm2)\n",
    "# # Label y-axis\n",
    "# plt.ylabel(r'Incoming SW radiation (W m$^{-2}$)')\n",
    "\n",
    "\n"
   ]
  },
  {
   "cell_type": "markdown",
   "metadata": {},
   "source": [
    "The x-axis looks rather messy because the tick labels are *timestamps*, which are, by nature, very long. Luckily, <span class=\"code\">matplotlib</span> has a module called <span class=\"code\">dates</span> for dealing with `datetime` objects. \n",
    "\n",
    "<div class=\"run\">\n",
    "    ▶️ <b> Run the cell below. </b>\n",
    "</div>"
   ]
  },
  {
   "cell_type": "code",
   "execution_count": null,
   "metadata": {},
   "outputs": [],
   "source": [
    "import matplotlib.dates as mdates"
   ]
  },
  {
   "cell_type": "markdown",
   "metadata": {},
   "source": [
    "Without going into too much detail, we can use some of the more advanced `Axes` settings to format and rotate the tick labels such that they no longer overlap, and we can use <span class=\"code\">matplotlib.dates</span> to format the timestamps. In short, we will use the `mdates.DateFormatter()` function to format the timestamps according to [C formatting codes](https://docs.python.org/3/library/datetime.html#strftime-and-strptime-behavior). \n",
    "\n",
    "The following example demonstrates this, and includes a good code chunk for formatting timestamps to add to your repertoire. It is important to note that the formatting methods employed here are `Axes` methods, which means that we must operate on an `Axes` object, rather than the `Figure`.\n",
    "\n",
    "<div class=\"run\">\n",
    "    ▶️ <b> Run the cell below. </b>\n",
    "</div>"
   ]
  },
  {
   "cell_type": "code",
   "execution_count": null,
   "metadata": {},
   "outputs": [],
   "source": [
    "# Initialize empty figure and axes\n",
    "fig = plt.figure()\n",
    "ax = fig.add_subplot(1,1,1)\n",
    "# Plot incoming SW radiation\n",
    "ax.plot(bsrn.index,bsrn.SWD_Wm2)\n",
    "# Label y-axis\n",
    "ax.set_ylabel(r'Incoming SW radiation (W m$^{-2}$)')\n",
    "\n",
    "# Format timestamps\n",
    "ax.xaxis.set_major_formatter(mdates.DateFormatter('%d-%b-%y'))\n",
    "# Format and rotate ticks\n",
    "plt.setp(ax.get_xticklabels(), rotation=45, fontsize=10, ha='right')\n",
    "ax.get_xticklabels()"
   ]
  },
  {
   "cell_type": "markdown",
   "metadata": {},
   "source": [
    "<div class=\"practice\">\n",
    "    📚  <b> Practice 3. </b> \n",
    "    Plot temperature and relative humidity (ideally using subplots) over the month of October 2019 at the BSRN station. Be sure to format the timestamps and include axis labels, a title, and a legend, if necessary.\n",
    "</div>"
   ]
  },
  {
   "cell_type": "code",
   "execution_count": null,
   "metadata": {},
   "outputs": [],
   "source": []
  },
  {
   "cell_type": "markdown",
   "metadata": {},
   "source": [
    "<hr style=\"border-top: 1px solid gray; margin-top: 24px; margin-bottom: 1px\"></hr>"
   ]
  },
  {
   "cell_type": "code",
   "execution_count": null,
   "metadata": {},
   "outputs": [],
   "source": [
    "# IGNORE THIS CELL\n",
    "from IPython.core.display import HTML\n",
    "def css_styling():\n",
    "    styles = open(\"./styles/exercises.css\", \"r\").read()\n",
    "    return HTML(styles)\n",
    "css_styling()"
   ]
  }
 ],
 "metadata": {
  "kernelspec": {
   "display_name": "Python 3.10.5 ('eds-217')",
   "language": "python",
   "name": "python3"
  },
  "language_info": {
   "codemirror_mode": {
    "name": "ipython",
    "version": 3
   },
   "file_extension": ".py",
   "mimetype": "text/x-python",
   "name": "python",
   "nbconvert_exporter": "python",
   "pygments_lexer": "ipython3",
   "version": "3.10.5"
  },
  "vscode": {
   "interpreter": {
    "hash": "02ac31c1bbea2dba9779e88833d1a7f8b96adbee2f2e8f94aa6bdb7029706ca5"
   }
  }
 },
 "nbformat": 4,
 "nbformat_minor": 4
}
